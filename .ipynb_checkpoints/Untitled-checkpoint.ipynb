{
 "cells": [
  {
   "cell_type": "code",
   "execution_count": 1,
   "metadata": {},
   "outputs": [],
   "source": [
    "import requests\n",
    "from bs4 import BeautifulSoup\n",
    "import pandas as pd\n",
    "import re"
   ]
  },
  {
   "cell_type": "code",
   "execution_count": 49,
   "metadata": {},
   "outputs": [],
   "source": [
    "base_url = \"https://www.indeed.com/\"\n",
    "job_search_url = base_url+\"jobs?q=AR%2FVR&l=Menlo+Park%2C+CA&start={}\"\n",
    "job_key_words = [\"ar/vr\",\"augmented reality\",\"virtual reality\"]\n",
    "job_title = []\n",
    "# to avoid having duplicates, let's define job urls as a set\n",
    "jobs_main_url = []\n",
    "company_names = []\n",
    "location = []\n",
    "job_description = []"
   ]
  },
  {
   "cell_type": "code",
   "execution_count": 165,
   "metadata": {},
   "outputs": [],
   "source": [
    "def extract_job_titles(soup): \n",
    "    jd_str = \"skills: \"\n",
    "    for div in soup.find_all('li'):\n",
    "        jd_str += \" \"+ div.text\n",
    "    print(jd_str)\n",
    "    job_description.append(jd_str)\n",
    "    jd_str = \"\""
   ]
  },
  {
   "cell_type": "code",
   "execution_count": 166,
   "metadata": {},
   "outputs": [],
   "source": [
    "page = requests.get(\"https://www.indeed.com/viewjob?cmp=Tailored-Management&t=Account+Receivable+Vr+Business+Analyst&jk=0187a98db678cb89&sjdu=QwrRXKrqZ3CNX5W-O9jEvT3msjFrcqIAt1mq-IpPE3n-ikiXWmMHB8Xvc1_BcGcsjji5vEAcqXdd6yEWPiTvPTQ2b9Il319ZICwwVIqdchs&tk=1e7rf7kr1nk0v800&adid=320275264&pub=4a1b367933fd867b19b072952f68dceb&vjs=3\")\n",
    "soup = BeautifulSoup(page.text, \"html.parser\")"
   ]
  },
  {
   "cell_type": "code",
   "execution_count": 167,
   "metadata": {},
   "outputs": [
    {
     "name": "stdout",
     "output_type": "stream",
     "text": [
      "skills:  Consolidate third-party retailer sales reports and upload reports to Hive Metastore. Use SQL to query sales related data on a distributed system. Create reports and dashboards to support sales leadership in making effective, analytically driven, and strategic decisions. Explore new data sources to add signal to existing models and develop models for new sales opportunities. Perform ad-hoc and in-depth analyses and then reporting/presenting insights. Partner with regional heads of sales to develop regional sales strategy. 2+ years of experience in business reporting, business intelligence or sales analytics. Reporting experience in a consumer electronics environment or retail industry preferred. Experience in querying and manipulating raw datasets for analysis using SQL (Presto, Spark, Hive). Experience in data ETL preferred. Experience in visualization, dashboards and reporting using Tableau, or other BI tools. Ability to partner with cross functional teams, prioritize tasks and move fast on projects. Experience in communicating findings to both technical and non-technical audiences. BS/MS degree in a quantitative discipline: statistics, applied mathematics, business analytics, computer science, engineering, economics, etc. Bachelor's (Required) United States (Required) One location Health insurance Dental insurance Vision insurance Monday to Friday Day shift 8 hour shift Hiring Lab Career Advice Browse Jobs Browse Companies Salaries Find Certifications Employer Events Work at Indeed Countries About Help Center Do Not Sell My Personal Information Privacy Center\n",
      "********\n"
     ]
    }
   ],
   "source": [
    "extract_job_titles(soup)"
   ]
  },
  {
   "cell_type": "code",
   "execution_count": 157,
   "metadata": {},
   "outputs": [
    {
     "data": {
      "text/plain": [
       "78"
      ]
     },
     "execution_count": 157,
     "metadata": {},
     "output_type": "execute_result"
    }
   ],
   "source": [
    "len(job_description)"
   ]
  },
  {
   "cell_type": "code",
   "execution_count": 158,
   "metadata": {},
   "outputs": [
    {
     "data": {
      "text/plain": [
       "['Consolidate third-party retailer sales reports and upload reports to Hive Metastore.',\n",
       " 'Use SQL to query sales related data on a distributed system.',\n",
       " 'Create reports and dashboards to support sales leadership in making effective, analytically driven, and strategic decisions.',\n",
       " 'Explore new data sources to add signal to existing models and develop models for new sales opportunities.',\n",
       " 'Perform ad-hoc and in-depth analyses and then reporting/presenting insights.',\n",
       " 'Partner with regional heads of sales to develop regional sales strategy.',\n",
       " '2+ years of experience in business reporting, business intelligence or sales analytics. Reporting experience in a consumer electronics environment or retail industry preferred.',\n",
       " 'Experience in querying and manipulating raw datasets for analysis using SQL (Presto, Spark, Hive). Experience in data ETL preferred.',\n",
       " 'Experience in visualization, dashboards and reporting using Tableau, or other BI tools.',\n",
       " 'Ability to partner with cross functional teams, prioritize tasks and move fast on projects.',\n",
       " 'Experience in communicating findings to both technical and non-technical audiences.',\n",
       " 'BS/MS degree in a quantitative discipline: statistics, applied mathematics, business analytics, computer science, engineering, economics, etc.',\n",
       " \"Bachelor's (Required)\",\n",
       " 'United States (Required)',\n",
       " 'One location',\n",
       " 'Health insurance',\n",
       " 'Dental insurance',\n",
       " 'Vision insurance',\n",
       " 'Monday to Friday',\n",
       " 'Day shift',\n",
       " '8 hour shift',\n",
       " 'Hiring Lab',\n",
       " 'Career Advice',\n",
       " 'Browse Jobs',\n",
       " 'Browse Companies',\n",
       " 'Salaries',\n",
       " 'Find Certifications',\n",
       " 'Employer Events',\n",
       " 'Work at Indeed',\n",
       " 'Countries',\n",
       " 'About',\n",
       " 'Help Center',\n",
       " 'Do Not Sell My Personal Information',\n",
       " 'Privacy Center',\n",
       " 'Consolidate third-party retailer sales reports and upload reports to Hive Metastore.',\n",
       " 'Use SQL to query sales related data on a distributed system.',\n",
       " 'Create reports and dashboards to support sales leadership in making effective, analytically driven, and strategic decisions.',\n",
       " 'Explore new data sources to add signal to existing models and develop models for new sales opportunities.',\n",
       " 'Perform ad-hoc and in-depth analyses and then reporting/presenting insights.',\n",
       " 'Partner with regional heads of sales to develop regional sales strategy.',\n",
       " '2+ years of experience in business reporting, business intelligence or sales analytics. Reporting experience in a consumer electronics environment or retail industry preferred.',\n",
       " 'Experience in querying and manipulating raw datasets for analysis using SQL (Presto, Spark, Hive). Experience in data ETL preferred.',\n",
       " 'Experience in visualization, dashboards and reporting using Tableau, or other BI tools.',\n",
       " 'Ability to partner with cross functional teams, prioritize tasks and move fast on projects.',\n",
       " 'Experience in communicating findings to both technical and non-technical audiences.',\n",
       " 'BS/MS degree in a quantitative discipline: statistics, applied mathematics, business analytics, computer science, engineering, economics, etc.',\n",
       " \"Bachelor's (Required)\",\n",
       " 'United States (Required)',\n",
       " 'One location',\n",
       " 'Health insurance',\n",
       " 'Dental insurance',\n",
       " 'Vision insurance',\n",
       " 'Monday to Friday',\n",
       " 'Day shift',\n",
       " '8 hour shift',\n",
       " 'Hiring Lab',\n",
       " 'Career Advice',\n",
       " 'Browse Jobs',\n",
       " 'Browse Companies',\n",
       " 'Salaries',\n",
       " 'Find Certifications',\n",
       " 'Employer Events',\n",
       " 'Work at Indeed',\n",
       " 'Countries',\n",
       " 'About',\n",
       " 'Help Center',\n",
       " 'Do Not Sell My Personal Information',\n",
       " 'Privacy Center',\n",
       " '',\n",
       " '',\n",
       " '',\n",
       " '',\n",
       " 'Privacy Center ',\n",
       " 'Privacy Center ',\n",
       " 'Privacy Center ',\n",
       " 'Privacy Center ',\n",
       " \"skills: Consolidate third-party retailer sales reports and upload reports to Hive Metastore.Use SQL to query sales related data on a distributed system.Create reports and dashboards to support sales leadership in making effective, analytically driven, and strategic decisions.Explore new data sources to add signal to existing models and develop models for new sales opportunities.Perform ad-hoc and in-depth analyses and then reporting/presenting insights.Partner with regional heads of sales to develop regional sales strategy.2+ years of experience in business reporting, business intelligence or sales analytics. Reporting experience in a consumer electronics environment or retail industry preferred.Experience in querying and manipulating raw datasets for analysis using SQL (Presto, Spark, Hive). Experience in data ETL preferred.Experience in visualization, dashboards and reporting using Tableau, or other BI tools.Ability to partner with cross functional teams, prioritize tasks and move fast on projects.Experience in communicating findings to both technical and non-technical audiences.BS/MS degree in a quantitative discipline: statistics, applied mathematics, business analytics, computer science, engineering, economics, etc.Bachelor's (Required)United States (Required)One locationHealth insuranceDental insuranceVision insuranceMonday to FridayDay shift8 hour shiftHiring LabCareer AdviceBrowse JobsBrowse CompaniesSalariesFind CertificationsEmployer EventsWork at IndeedCountriesAboutHelp CenterDo Not Sell My Personal InformationPrivacy Center\",\n",
       " \"skills: Consolidate third-party retailer sales reports and upload reports to Hive Metastore.Use SQL to query sales related data on a distributed system.Create reports and dashboards to support sales leadership in making effective, analytically driven, and strategic decisions.Explore new data sources to add signal to existing models and develop models for new sales opportunities.Perform ad-hoc and in-depth analyses and then reporting/presenting insights.Partner with regional heads of sales to develop regional sales strategy.2+ years of experience in business reporting, business intelligence or sales analytics. Reporting experience in a consumer electronics environment or retail industry preferred.Experience in querying and manipulating raw datasets for analysis using SQL (Presto, Spark, Hive). Experience in data ETL preferred.Experience in visualization, dashboards and reporting using Tableau, or other BI tools.Ability to partner with cross functional teams, prioritize tasks and move fast on projects.Experience in communicating findings to both technical and non-technical audiences.BS/MS degree in a quantitative discipline: statistics, applied mathematics, business analytics, computer science, engineering, economics, etc.Bachelor's (Required)United States (Required)One locationHealth insuranceDental insuranceVision insuranceMonday to FridayDay shift8 hour shiftHiring LabCareer AdviceBrowse JobsBrowse CompaniesSalariesFind CertificationsEmployer EventsWork at IndeedCountriesAboutHelp CenterDo Not Sell My Personal InformationPrivacy Center\"]"
      ]
     },
     "execution_count": 158,
     "metadata": {},
     "output_type": "execute_result"
    }
   ],
   "source": [
    "job_description"
   ]
  },
  {
   "cell_type": "code",
   "execution_count": null,
   "metadata": {},
   "outputs": [],
   "source": []
  }
 ],
 "metadata": {
  "kernelspec": {
   "display_name": "Python 3",
   "language": "python",
   "name": "python3"
  },
  "language_info": {
   "codemirror_mode": {
    "name": "ipython",
    "version": 3
   },
   "file_extension": ".py",
   "mimetype": "text/x-python",
   "name": "python",
   "nbconvert_exporter": "python",
   "pygments_lexer": "ipython3",
   "version": "3.7.5"
  }
 },
 "nbformat": 4,
 "nbformat_minor": 2
}
