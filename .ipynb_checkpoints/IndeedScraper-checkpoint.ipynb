{
 "cells": [
  {
   "cell_type": "code",
   "execution_count": 1,
   "metadata": {},
   "outputs": [],
   "source": [
    "import requests\n",
    "from bs4 import BeautifulSoup\n",
    "import pandas as pd\n",
    "import re"
   ]
  },
  {
   "cell_type": "markdown",
   "metadata": {},
   "source": [
    "Let's define base url for the scraper <br>"
   ]
  },
  {
   "cell_type": "code",
   "execution_count": 2,
   "metadata": {},
   "outputs": [],
   "source": [
    "base_url = \"https://www.indeed.com/\"\n",
    "job_search_url = base_url+\"jobs?q=AR%2FVR&l=Menlo+Park%2C+CA&start={}\"\n",
    "job_key_words = [\"ar/vr\",\"augmented reality\",\"virtual reality\"]\n",
    "job_title = []\n",
    "jobs_main_url = []\n",
    "company_names = []\n",
    "location = []\n",
    "job_description = []"
   ]
  },
  {
   "cell_type": "markdown",
   "metadata": {},
   "source": [
    "### Lets get the job listing urls and job title\n",
    "scrape first few pages of Indeed and get the job lising relevant to AR/VR."
   ]
  },
  {
   "cell_type": "code",
   "execution_count": 3,
   "metadata": {},
   "outputs": [],
   "source": [
    "def extract_job_titles(soup): \n",
    "    for div in soup.find_all(name=\"h2\", attrs={\"class\":\"title\"}):\n",
    "        for a in div.find_all(name=\"a\", attrs={\"data-tn-element\":\"jobTitle\"}):\n",
    "            if any(word in a[\"title\"].lower() for word in job_key_words):\n",
    "                job_title.append(a[\"title\"])\n",
    "                jobs_main_url.append(base_url+a[\"href\"])"
   ]
  },
  {
   "cell_type": "code",
   "execution_count": 4,
   "metadata": {},
   "outputs": [],
   "source": [
    "for i in range(15):\n",
    "    base_url.format(i)\n",
    "    page = requests.get(job_search_url)\n",
    "    soup = BeautifulSoup(page.text, \"html.parser\")\n",
    "    extract_job_titles(soup)"
   ]
  },
  {
   "cell_type": "code",
   "execution_count": 5,
   "metadata": {},
   "outputs": [
    {
     "data": {
      "text/plain": [
       "57"
      ]
     },
     "execution_count": 5,
     "metadata": {},
     "output_type": "execute_result"
    }
   ],
   "source": [
    "len(jobs_main_url)"
   ]
  },
  {
   "cell_type": "code",
   "execution_count": 6,
   "metadata": {},
   "outputs": [
    {
     "data": {
      "text/plain": [
       "'https://www.indeed.com//pagead/clk?mo=r&ad=-6NYlbfkN0DI_pqscLjs9LkB0jlO39g2s8RE9SCHTdataN4HV1TulGfWI13h5d2IIBkrMCBpdyoKFuk6LoRw93nv9VIf-nwycaiTnbsKlxaYmP2oUVCrEos5MOIWzflKyJqtBexCiKWVxNVq0D9Lo3YRyX8n959AonagBpNTwfxL-PurTe6VIps6UhXSzCelZ2i6M80jnMdII1b6sHyJCLymqcUTpn1x6YNzrQomP40NjVEvoaKBN1-JuBw-fFhQ0IIOAgxHqXYt8Vri_lNyTY75aw7SXF_6d2OSMWxSjL3LVtSVR0zFNaGlM2RGHK0dJ_PcAT0ol6b_LaL11ASSoT7gxY_gCP6k31Jg9WD9on827TP6qOx62Wh6H5AX3eB8SgkkvxGMpHfbJfiac0m4Vw8cTqRNvPSnD3yZPdm6ELIBcAhR0sr2bNe1tAhYiEZRNI-jo4R8Btz-IsgLf-JxJOKC72PudnjZjGyb0XAAUU8=&p=0&fvj=1&vjs=3'"
      ]
     },
     "execution_count": 6,
     "metadata": {},
     "output_type": "execute_result"
    }
   ],
   "source": [
    "jobs_main_url[0]"
   ]
  },
  {
   "cell_type": "markdown",
   "metadata": {},
   "source": [
    "### Lets get the job description for further processing\n"
   ]
  },
  {
   "cell_type": "code",
   "execution_count": 7,
   "metadata": {},
   "outputs": [],
   "source": [
    "def extract_job_description(soup): \n",
    "    # company title\n",
    "    for div in soup.find_all(name=\"div\", attrs={\"class\":\"icl-u-lg-mr--sm icl-u-xs-mr--xs\"}):\n",
    "        if len(div.text.split('-')[0]) > 0:\n",
    "            company_names.append(div.text.split('-')[0])\n",
    "    # location\n",
    "    for div in soup.find_all(name=\"div\", attrs={\"class\":\"jobsearch-DesktopStickyContainer-companyrating\"}):\n",
    "        if len(div.text.split('-')[1]) > 2:\n",
    "            location.append(div.text.split('-')[1])\n",
    "    # Job Description\n",
    "    for div in soup.find_all(name=\"div\", attrs={\"class\":\"jobsearch-jobDescriptionText\"}):\n",
    "        job_description.append(div.text)"
   ]
  },
  {
   "cell_type": "code",
   "execution_count": 8,
   "metadata": {},
   "outputs": [],
   "source": [
    "for i in range(len(jobs_main_url)):\n",
    "    url_individual_listing = jobs_main_url[i]\n",
    "    page = requests.get(url_individual_listing)\n",
    "    soup = BeautifulSoup(page.text, \"html.parser\")\n",
    "    extract_job_description(soup)"
   ]
  },
  {
   "cell_type": "code",
   "execution_count": 9,
   "metadata": {},
   "outputs": [
    {
     "data": {
      "text/plain": [
       "(57, 57, 57, 57, 57)"
      ]
     },
     "execution_count": 9,
     "metadata": {},
     "output_type": "execute_result"
    }
   ],
   "source": [
    "len(job_title),len(jobs_main_url),len(job_description), len(location), len(company_names)"
   ]
  },
  {
   "cell_type": "markdown",
   "metadata": {},
   "source": [
    "### Lets save the scraped data as a CSV file"
   ]
  },
  {
   "cell_type": "code",
   "execution_count": 10,
   "metadata": {},
   "outputs": [],
   "source": [
    "# create a data frame to save the raw data into a csv file \n",
    "raw_data = pd.DataFrame({\n",
    "    'Title' : job_title,\n",
    "    'Company': company_names,\n",
    "    'Location': location,\n",
    "    'JD': job_description,\n",
    "    'URL': jobs_main_url\n",
    "})"
   ]
  },
  {
   "cell_type": "code",
   "execution_count": 11,
   "metadata": {},
   "outputs": [
    {
     "name": "stdout",
     "output_type": "stream",
     "text": [
      "<class 'pandas.core.frame.DataFrame'>\n",
      "RangeIndex: 57 entries, 0 to 56\n",
      "Data columns (total 5 columns):\n",
      "Title       57 non-null object\n",
      "Company     57 non-null object\n",
      "Location    57 non-null object\n",
      "JD          57 non-null object\n",
      "URL         57 non-null object\n",
      "dtypes: object(5)\n",
      "memory usage: 2.4+ KB\n"
     ]
    }
   ],
   "source": [
    "raw_data.info()"
   ]
  },
  {
   "cell_type": "code",
   "execution_count": 12,
   "metadata": {},
   "outputs": [
    {
     "data": {
      "text/html": [
       "<div>\n",
       "<style scoped>\n",
       "    .dataframe tbody tr th:only-of-type {\n",
       "        vertical-align: middle;\n",
       "    }\n",
       "\n",
       "    .dataframe tbody tr th {\n",
       "        vertical-align: top;\n",
       "    }\n",
       "\n",
       "    .dataframe thead th {\n",
       "        text-align: right;\n",
       "    }\n",
       "</style>\n",
       "<table border=\"1\" class=\"dataframe\">\n",
       "  <thead>\n",
       "    <tr style=\"text-align: right;\">\n",
       "      <th></th>\n",
       "      <th>Title</th>\n",
       "      <th>Company</th>\n",
       "      <th>Location</th>\n",
       "      <th>JD</th>\n",
       "      <th>URL</th>\n",
       "    </tr>\n",
       "  </thead>\n",
       "  <tbody>\n",
       "    <tr>\n",
       "      <th>0</th>\n",
       "      <td>AR/VR Business Analyst</td>\n",
       "      <td>Tailored Management</td>\n",
       "      <td>Menlo Park, CA</td>\n",
       "      <td>Job Title: Business Analyst ILocation: Menlo P...</td>\n",
       "      <td>https://www.indeed.com//pagead/clk?mo=r&amp;ad=-6N...</td>\n",
       "    </tr>\n",
       "    <tr>\n",
       "      <th>1</th>\n",
       "      <td>AR/VR Apps Review Specialist</td>\n",
       "      <td>Facebook</td>\n",
       "      <td>Menlo Park, CA</td>\n",
       "      <td>Our team ensures that applications shipped in ...</td>\n",
       "      <td>https://www.indeed.com//rc/clk?jk=11bf7d641f87...</td>\n",
       "    </tr>\n",
       "    <tr>\n",
       "      <th>2</th>\n",
       "      <td>Strategic Planning &amp; Operations Lead for Faceb...</td>\n",
       "      <td>Facebook</td>\n",
       "      <td>Menlo Park, CA</td>\n",
       "      <td>The Partnerships Strategic Planning &amp; Operatio...</td>\n",
       "      <td>https://www.indeed.com//rc/clk?jk=4edd3fa153d3...</td>\n",
       "    </tr>\n",
       "    <tr>\n",
       "      <th>3</th>\n",
       "      <td>Technology Communications Director, AR/VR</td>\n",
       "      <td>Facebook</td>\n",
       "      <td>Menlo Park, CA</td>\n",
       "      <td>We are searching for an experienced leader to ...</td>\n",
       "      <td>https://www.indeed.com//rc/clk?jk=e828972d8901...</td>\n",
       "    </tr>\n",
       "    <tr>\n",
       "      <th>4</th>\n",
       "      <td>Security Partner, AR/VR</td>\n",
       "      <td>Facebook</td>\n",
       "      <td>Menlo Park, CA</td>\n",
       "      <td>Facebook is rapidly expanding our core product...</td>\n",
       "      <td>https://www.indeed.com//rc/clk?jk=e669d6a7dc0b...</td>\n",
       "    </tr>\n",
       "  </tbody>\n",
       "</table>\n",
       "</div>"
      ],
      "text/plain": [
       "                                               Title              Company  \\\n",
       "0                             AR/VR Business Analyst  Tailored Management   \n",
       "1                       AR/VR Apps Review Specialist             Facebook   \n",
       "2  Strategic Planning & Operations Lead for Faceb...             Facebook   \n",
       "3          Technology Communications Director, AR/VR             Facebook   \n",
       "4                            Security Partner, AR/VR             Facebook   \n",
       "\n",
       "         Location                                                 JD  \\\n",
       "0  Menlo Park, CA  Job Title: Business Analyst ILocation: Menlo P...   \n",
       "1  Menlo Park, CA  Our team ensures that applications shipped in ...   \n",
       "2  Menlo Park, CA  The Partnerships Strategic Planning & Operatio...   \n",
       "3  Menlo Park, CA  We are searching for an experienced leader to ...   \n",
       "4  Menlo Park, CA  Facebook is rapidly expanding our core product...   \n",
       "\n",
       "                                                 URL  \n",
       "0  https://www.indeed.com//pagead/clk?mo=r&ad=-6N...  \n",
       "1  https://www.indeed.com//rc/clk?jk=11bf7d641f87...  \n",
       "2  https://www.indeed.com//rc/clk?jk=4edd3fa153d3...  \n",
       "3  https://www.indeed.com//rc/clk?jk=e828972d8901...  \n",
       "4  https://www.indeed.com//rc/clk?jk=e669d6a7dc0b...  "
      ]
     },
     "execution_count": 12,
     "metadata": {},
     "output_type": "execute_result"
    }
   ],
   "source": [
    "raw_data.head()"
   ]
  },
  {
   "cell_type": "code",
   "execution_count": 13,
   "metadata": {},
   "outputs": [],
   "source": [
    "raw_data.to_csv('raw_data.csv',header=True)"
   ]
  },
  {
   "cell_type": "markdown",
   "metadata": {},
   "source": [
    "### Lets see how many unique job titles we have in our data set.\n",
    "\n",
    "lets find out the key skills for each of them."
   ]
  },
  {
   "cell_type": "code",
   "execution_count": 14,
   "metadata": {},
   "outputs": [
    {
     "name": "stdout",
     "output_type": "stream",
     "text": [
      "We have 14 unique job types in our data set\n"
     ]
    }
   ],
   "source": [
    "print(\"We have {} unique job types in our data set\".format(len(raw_data.Title.unique())))"
   ]
  },
  {
   "cell_type": "code",
   "execution_count": 15,
   "metadata": {},
   "outputs": [
    {
     "data": {
      "text/plain": [
       "array(['AR/VR Business Analyst', 'AR/VR Apps Review Specialist',\n",
       "       'Strategic Planning & Operations Lead for Facebook AR/VR Partnerships',\n",
       "       'Technology Communications Director, AR/VR',\n",
       "       'Security Partner, AR/VR', 'Accountant, AR/VR',\n",
       "       'Contact Center Program Manager, AR/VR',\n",
       "       'Customer Experience Analyst, AR/VR', 'Product Designer, AR/VR',\n",
       "       'Supply Planner, AR/VR',\n",
       "       'Producer, Augmented Reality (Menlo Park)',\n",
       "       'Content Manager, AR/VR (Japanese Market)',\n",
       "       'Director, Global Logistics & Trade AR/VR',\n",
       "       'Project Manager, AR/VR Social Experiences'], dtype=object)"
      ]
     },
     "execution_count": 15,
     "metadata": {},
     "output_type": "execute_result"
    }
   ],
   "source": [
    "raw_data.Title.unique()"
   ]
  },
  {
   "cell_type": "code",
   "execution_count": 16,
   "metadata": {},
   "outputs": [
    {
     "data": {
      "text/plain": [
       "Strategic Planning & Operations Lead for Facebook AR/VR Partnerships    5\n",
       "Contact Center Program Manager, AR/VR                                   5\n",
       "Producer, Augmented Reality (Menlo Park)                                5\n",
       "Technology Communications Director, AR/VR                               5\n",
       "Product Designer, AR/VR                                                 5\n",
       "AR/VR Apps Review Specialist                                            5\n",
       "Supply Planner, AR/VR                                                   5\n",
       "Accountant, AR/VR                                                       5\n",
       "AR/VR Business Analyst                                                  5\n",
       "Security Partner, AR/VR                                                 5\n",
       "Customer Experience Analyst, AR/VR                                      4\n",
       "Project Manager, AR/VR Social Experiences                               1\n",
       "Director, Global Logistics & Trade AR/VR                                1\n",
       "Content Manager, AR/VR (Japanese Market)                                1\n",
       "Name: Title, dtype: int64"
      ]
     },
     "execution_count": 16,
     "metadata": {},
     "output_type": "execute_result"
    }
   ],
   "source": [
    "raw_data['Title'].value_counts()"
   ]
  },
  {
   "cell_type": "code",
   "execution_count": null,
   "metadata": {},
   "outputs": [],
   "source": []
  }
 ],
 "metadata": {
  "kernelspec": {
   "display_name": "Python 3",
   "language": "python",
   "name": "python3"
  },
  "language_info": {
   "codemirror_mode": {
    "name": "ipython",
    "version": 3
   },
   "file_extension": ".py",
   "mimetype": "text/x-python",
   "name": "python",
   "nbconvert_exporter": "python",
   "pygments_lexer": "ipython3",
   "version": "3.7.5"
  }
 },
 "nbformat": 4,
 "nbformat_minor": 2
}
