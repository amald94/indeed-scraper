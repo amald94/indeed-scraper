{
 "cells": [
  {
   "cell_type": "code",
   "execution_count": 1,
   "metadata": {},
   "outputs": [],
   "source": [
    "import requests\n",
    "from bs4 import BeautifulSoup\n",
    "import pandas as pd\n",
    "import re"
   ]
  },
  {
   "cell_type": "markdown",
   "metadata": {},
   "source": [
    "Let's define base url for the scraper <br>"
   ]
  },
  {
   "cell_type": "code",
   "execution_count": 2,
   "metadata": {},
   "outputs": [],
   "source": [
    "base_url = \"https://www.indeed.com/\"\n",
    "job_search_url = base_url+\"jobs?q=AR%2FVR&l=Menlo+Park%2C+CA&start={}\"\n",
    "job_key_words = [\"ar/vr\",\"augmented reality\",\"virtual reality\"]\n",
    "job_title = []\n",
    "jobs_main_url = []\n",
    "temp_urls = set()\n",
    "company_names = []\n",
    "location = []\n",
    "job_description = []"
   ]
  },
  {
   "cell_type": "markdown",
   "metadata": {},
   "source": [
    "### Lets get the job listing urls and job title\n",
    "scrape first few pages of Indeed and get the job lising relevant to AR/VR."
   ]
  },
  {
   "cell_type": "code",
   "execution_count": 3,
   "metadata": {},
   "outputs": [],
   "source": [
    "def extract_job_titles(soup): \n",
    "    for div in soup.find_all(name=\"h2\", attrs={\"class\":\"title\"}):\n",
    "        for a in div.find_all(name=\"a\", attrs={\"data-tn-element\":\"jobTitle\"}):\n",
    "            if any(word in a[\"title\"].lower() for word in job_key_words):\n",
    "                post_url = base_url+a[\"href\"]\n",
    "                if post_url not in temp_urls:\n",
    "                    job_title.append(a[\"title\"])\n",
    "                    jobs_main_url.append(post_url)\n",
    "                    post_url = \"\""
   ]
  },
  {
   "cell_type": "code",
   "execution_count": 4,
   "metadata": {},
   "outputs": [],
   "source": [
    "for i in range(35):\n",
    "    url_listing = job_search_url.format(i)\n",
    "    page = requests.get(url_listing)\n",
    "    soup = BeautifulSoup(page.text, \"html.parser\")\n",
    "    extract_job_titles(soup)\n",
    "# free up the memory by clearning the temp sets\n",
    "temp_urls.clear()"
   ]
  },
  {
   "cell_type": "code",
   "execution_count": 5,
   "metadata": {},
   "outputs": [
    {
     "data": {
      "text/plain": [
       "392"
      ]
     },
     "execution_count": 5,
     "metadata": {},
     "output_type": "execute_result"
    }
   ],
   "source": [
    "len(jobs_main_url)"
   ]
  },
  {
   "cell_type": "markdown",
   "metadata": {},
   "source": [
    "### Lets get the job description for further processing\n"
   ]
  },
  {
   "cell_type": "code",
   "execution_count": 6,
   "metadata": {},
   "outputs": [],
   "source": [
    "def extract_job_description(soup): \n",
    "    # company title\n",
    "    for div in soup.find_all(name=\"div\", attrs={\"class\":\"icl-u-lg-mr--sm icl-u-xs-mr--xs\"}):\n",
    "        if len(div.text.split('-')[0]) > 0:\n",
    "            company_names.append(div.text.split('-')[0])\n",
    "    # location\n",
    "    for div in soup.find_all(name=\"div\", attrs={\"class\":\"jobsearch-DesktopStickyContainer-companyrating\"}):\n",
    "        if len(div.text.split('-')[1]) > 2:\n",
    "            location.append(div.text.split('-')[1])\n",
    "    # Job Description\n",
    "    for div in soup.find_all(name=\"div\", attrs={\"class\":\"jobsearch-jobDescriptionText\"}):\n",
    "        job_description.append(div.text)"
   ]
  },
  {
   "cell_type": "code",
   "execution_count": 7,
   "metadata": {},
   "outputs": [],
   "source": [
    "for i in range(len(jobs_main_url)):\n",
    "    url_individual_listing = jobs_main_url[i]\n",
    "    page = requests.get(url_individual_listing)\n",
    "    soup = BeautifulSoup(page.text, \"html.parser\")\n",
    "    extract_job_description(soup)"
   ]
  },
  {
   "cell_type": "code",
   "execution_count": 8,
   "metadata": {},
   "outputs": [],
   "source": [
    "# for url in jobs_main_url:\n",
    "#     page = requests.get(url)\n",
    "#     soup = BeautifulSoup(page.text, \"html.parser\")\n",
    "#     extract_job_description(soup)"
   ]
  },
  {
   "cell_type": "code",
   "execution_count": 9,
   "metadata": {},
   "outputs": [
    {
     "data": {
      "text/plain": [
       "(392, 392, 392, 392, 392)"
      ]
     },
     "execution_count": 9,
     "metadata": {},
     "output_type": "execute_result"
    }
   ],
   "source": [
    "len(job_title),len(jobs_main_url),len(job_description), len(location), len(company_names)"
   ]
  },
  {
   "cell_type": "markdown",
   "metadata": {},
   "source": [
    "### Lets save the scraped data as a CSV file"
   ]
  },
  {
   "cell_type": "code",
   "execution_count": 10,
   "metadata": {},
   "outputs": [],
   "source": [
    "# create a data frame to save the raw data into a csv file \n",
    "#jb_url = list(jobs_main_url)\n",
    "raw_data = pd.DataFrame({\n",
    "    'Title' : job_title,\n",
    "    'Company': company_names,\n",
    "    'Location': location,\n",
    "    'JD': job_description,\n",
    "    'URL': jobs_main_url\n",
    "})"
   ]
  },
  {
   "cell_type": "code",
   "execution_count": 11,
   "metadata": {},
   "outputs": [
    {
     "name": "stdout",
     "output_type": "stream",
     "text": [
      "<class 'pandas.core.frame.DataFrame'>\n",
      "RangeIndex: 392 entries, 0 to 391\n",
      "Data columns (total 5 columns):\n",
      "Title       392 non-null object\n",
      "Company     392 non-null object\n",
      "Location    392 non-null object\n",
      "JD          392 non-null object\n",
      "URL         392 non-null object\n",
      "dtypes: object(5)\n",
      "memory usage: 15.4+ KB\n"
     ]
    }
   ],
   "source": [
    "raw_data.info()"
   ]
  },
  {
   "cell_type": "code",
   "execution_count": 12,
   "metadata": {},
   "outputs": [
    {
     "data": {
      "text/html": [
       "<div>\n",
       "<style scoped>\n",
       "    .dataframe tbody tr th:only-of-type {\n",
       "        vertical-align: middle;\n",
       "    }\n",
       "\n",
       "    .dataframe tbody tr th {\n",
       "        vertical-align: top;\n",
       "    }\n",
       "\n",
       "    .dataframe thead th {\n",
       "        text-align: right;\n",
       "    }\n",
       "</style>\n",
       "<table border=\"1\" class=\"dataframe\">\n",
       "  <thead>\n",
       "    <tr style=\"text-align: right;\">\n",
       "      <th></th>\n",
       "      <th>Title</th>\n",
       "      <th>Company</th>\n",
       "      <th>Location</th>\n",
       "      <th>JD</th>\n",
       "      <th>URL</th>\n",
       "    </tr>\n",
       "  </thead>\n",
       "  <tbody>\n",
       "    <tr>\n",
       "      <th>0</th>\n",
       "      <td>AR/VR Business Analyst</td>\n",
       "      <td>Tailored Management</td>\n",
       "      <td>Menlo Park, CA</td>\n",
       "      <td>Job Title: Business Analyst ILocation: Menlo P...</td>\n",
       "      <td>https://www.indeed.com//pagead/clk?mo=r&amp;ad=-6N...</td>\n",
       "    </tr>\n",
       "    <tr>\n",
       "      <th>1</th>\n",
       "      <td>Producer, Augmented Reality (Menlo Park)</td>\n",
       "      <td>The Mom Project</td>\n",
       "      <td>Menlo Park, CA</td>\n",
       "      <td>Company Industry: TechnologyOpportunity: The M...</td>\n",
       "      <td>https://www.indeed.com//pagead/clk?mo=r&amp;ad=-6N...</td>\n",
       "    </tr>\n",
       "    <tr>\n",
       "      <th>2</th>\n",
       "      <td>Director, Demand Planning AR/VR</td>\n",
       "      <td>Facebook</td>\n",
       "      <td>Menlo Park, CA</td>\n",
       "      <td>As a leader within the Business Management tea...</td>\n",
       "      <td>https://www.indeed.com//rc/clk?jk=4cfdb4526611...</td>\n",
       "    </tr>\n",
       "    <tr>\n",
       "      <th>3</th>\n",
       "      <td>Accountant, AR/VR</td>\n",
       "      <td>Facebook</td>\n",
       "      <td>Menlo Park, CA</td>\n",
       "      <td>Facebook is seeking an Accountant for AR/VR, F...</td>\n",
       "      <td>https://www.indeed.com//rc/clk?jk=04a2950fd53a...</td>\n",
       "    </tr>\n",
       "    <tr>\n",
       "      <th>4</th>\n",
       "      <td>AR/VR Apps Review Specialist</td>\n",
       "      <td>Facebook</td>\n",
       "      <td>Menlo Park, CA</td>\n",
       "      <td>Our team ensures that applications shipped in ...</td>\n",
       "      <td>https://www.indeed.com//rc/clk?jk=11bf7d641f87...</td>\n",
       "    </tr>\n",
       "  </tbody>\n",
       "</table>\n",
       "</div>"
      ],
      "text/plain": [
       "                                      Title              Company  \\\n",
       "0                    AR/VR Business Analyst  Tailored Management   \n",
       "1  Producer, Augmented Reality (Menlo Park)      The Mom Project   \n",
       "2           Director, Demand Planning AR/VR             Facebook   \n",
       "3                         Accountant, AR/VR             Facebook   \n",
       "4              AR/VR Apps Review Specialist             Facebook   \n",
       "\n",
       "         Location                                                 JD  \\\n",
       "0  Menlo Park, CA  Job Title: Business Analyst ILocation: Menlo P...   \n",
       "1  Menlo Park, CA  Company Industry: TechnologyOpportunity: The M...   \n",
       "2  Menlo Park, CA  As a leader within the Business Management tea...   \n",
       "3  Menlo Park, CA  Facebook is seeking an Accountant for AR/VR, F...   \n",
       "4  Menlo Park, CA  Our team ensures that applications shipped in ...   \n",
       "\n",
       "                                                 URL  \n",
       "0  https://www.indeed.com//pagead/clk?mo=r&ad=-6N...  \n",
       "1  https://www.indeed.com//pagead/clk?mo=r&ad=-6N...  \n",
       "2  https://www.indeed.com//rc/clk?jk=4cfdb4526611...  \n",
       "3  https://www.indeed.com//rc/clk?jk=04a2950fd53a...  \n",
       "4  https://www.indeed.com//rc/clk?jk=11bf7d641f87...  "
      ]
     },
     "execution_count": 12,
     "metadata": {},
     "output_type": "execute_result"
    }
   ],
   "source": [
    "raw_data.head()"
   ]
  },
  {
   "cell_type": "code",
   "execution_count": 13,
   "metadata": {},
   "outputs": [],
   "source": [
    "raw_data.to_csv('raw_data.csv',header=True)"
   ]
  },
  {
   "cell_type": "markdown",
   "metadata": {},
   "source": [
    "### Lets see how many unique job titles we have in our data set.\n",
    "\n",
    "lets find out the key skills for each of them."
   ]
  },
  {
   "cell_type": "code",
   "execution_count": 14,
   "metadata": {},
   "outputs": [
    {
     "name": "stdout",
     "output_type": "stream",
     "text": [
      "We have 51 unique job types in our data set\n"
     ]
    }
   ],
   "source": [
    "print(\"We have {} unique job types in our data set\".format(len(raw_data.Title.unique())))"
   ]
  },
  {
   "cell_type": "code",
   "execution_count": 20,
   "metadata": {},
   "outputs": [
    {
     "data": {
      "text/plain": [
       "51"
      ]
     },
     "execution_count": 20,
     "metadata": {},
     "output_type": "execute_result"
    }
   ],
   "source": [
    "raw_data.Title.nunique()"
   ]
  },
  {
   "cell_type": "code",
   "execution_count": 16,
   "metadata": {},
   "outputs": [
    {
     "data": {
      "text/plain": [
       "Producer, Augmented Reality (Menlo Park)                                35\n",
       "AR/VR Business Analyst                                                  35\n",
       "Content Manager, AR/VR (Japanese Market)                                14\n",
       "AR/VR Strategic Account Manager, Online Retail                          12\n",
       "QA Lead, AR/VR                                                          10\n",
       "AR/VR Electrical Engineer                                               10\n",
       "Wireless Software Engineer, AR/VR                                       10\n",
       "Product Experience Quality Engineer, AR/VR Accessories                  10\n",
       "Manager, Display Strategic Sourcing - AR/VR                             10\n",
       "Director, Business Enablement AR/VR                                     10\n",
       "Accounting Manager, AR/VR                                               10\n",
       "Director, Product, AR/VR Growth                                         10\n",
       "Horizon TPM Lead - Facebook AR/VR Experiences                           10\n",
       "Manager, Channel Operations - AR/VR                                     10\n",
       "Lead Character Artist, AR/VR                                            10\n",
       "Global Supply Manager, Silicon (Facebook AR/VR)                         10\n",
       "AR/VR - Product Designer                                                10\n",
       "Marketing Insights Researcher, AR/VR                                    10\n",
       "AR/VR Product Design Engineer                                           10\n",
       "Director, Engineering, AR/VR Experiences                                10\n",
       "AR/VR Sales Finance Analyst                                              8\n",
       "Display Research and Development Engineer, AR/VR                         8\n",
       "HR Director, AR/VR                                                       7\n",
       "AR/VR Prototyping Engineer                                               7\n",
       "Customer Experience Analyst, AR/VR                                       7\n",
       "Product Designer, AR/VR                                                  7\n",
       "Revenue Manager, AR/VR                                                   7\n",
       "Associate General Counsel, AR/VR                                         7\n",
       "Mechanical Engineer - AR/VR Accessories                                  7\n",
       "AR/VR Category Business Manager                                          7\n",
       "Software Engineer - Android, AR/VR                                       7\n",
       "Technology Communications Director, AR/VR                                7\n",
       "Director, Software Engineering, AR/VR - Fundamentals                     5\n",
       "Supply Planner, AR/VR                                                    4\n",
       "AR/VR Enterprise Channel Marketing Manager                               4\n",
       "Director, Global Logistics & Trade AR/VR                                 4\n",
       "AR/VR Revenue Accountant                                                 4\n",
       "Contact Center Program Manager, AR/VR                                    4\n",
       "Manager, Audio Strategic Sourcing - AR/VR                                4\n",
       "Project Manager, AR/VR Social Experiences                                4\n",
       "Software Engineer, 3D Applications (AR/VR)                               2\n",
       "AR/VR Application Engineer                                               2\n",
       "Manager, Software Engineering, AR/VR - Audio Algorithms                  2\n",
       "Director, Software Engineering, AR/VR - Portal Device Software           2\n",
       "AR/VR Test Development Engineer                                          2\n",
       "Manager, North America Channel Marketing - AR/VR                         2\n",
       "Strategic Planning & Operations Lead for Facebook AR/VR Partnerships     1\n",
       "Events Manager, AR/VR Marketing                                          1\n",
       "AR/VR Apps Review Specialist                                             1\n",
       "Accountant, AR/VR                                                        1\n",
       "Director, Demand Planning AR/VR                                          1\n",
       "Name: Title, dtype: int64"
      ]
     },
     "execution_count": 16,
     "metadata": {},
     "output_type": "execute_result"
    }
   ],
   "source": [
    "raw_data['Title'].value_counts()"
   ]
  },
  {
   "cell_type": "code",
   "execution_count": 19,
   "metadata": {},
   "outputs": [
    {
     "data": {
      "text/plain": [
       "132"
      ]
     },
     "execution_count": 19,
     "metadata": {},
     "output_type": "execute_result"
    }
   ],
   "source": [
    "raw_data.URL.nunique()"
   ]
  },
  {
   "cell_type": "markdown",
   "metadata": {},
   "source": [
    "Looks like we are having lot of duplicates entries in our dataset. Let's clear them out"
   ]
  },
  {
   "cell_type": "code",
   "execution_count": null,
   "metadata": {},
   "outputs": [],
   "source": []
  }
 ],
 "metadata": {
  "kernelspec": {
   "display_name": "Python 3",
   "language": "python",
   "name": "python3"
  },
  "language_info": {
   "codemirror_mode": {
    "name": "ipython",
    "version": 3
   },
   "file_extension": ".py",
   "mimetype": "text/x-python",
   "name": "python",
   "nbconvert_exporter": "python",
   "pygments_lexer": "ipython3",
   "version": "3.7.5"
  }
 },
 "nbformat": 4,
 "nbformat_minor": 2
}
